{
 "cells": [
  {
   "cell_type": "code",
   "execution_count": 6,
   "metadata": {},
   "outputs": [],
   "source": [
    "# %%html\n",
    "# <!-- This cell makes the font bigger to make it easy to read. Adjust to taste -->\n",
    "# <style>\n",
    "# .cell, .CodeMirror pre{ \n",
    "#     font-size: 150%;\n",
    "#     line-height: 125%;\n",
    "# }\n",
    "# </style>"
   ]
  },
  {
   "cell_type": "markdown",
   "metadata": {},
   "source": [
    "# COSC470 Assignment 2, 2018\n",
    "\n",
    "## Name: Robbie Cook\n",
    "## Due Date: Monday September 24th\n",
    "\n",
    "For assignment 2 you need to implement machine learning algorithm(s) to label faces according to:\n",
    "- sex (male/female)\n",
    "- age (child/teen/adult/senior)\n",
    "- expression (smiling/serious)\n",
    "\n",
    "A data set from MIT is made available, along with code to read the images and labels into `numpy` arrays. \n",
    "These arrays are divided into training, validation, and testing data sets.\n",
    "\n",
    "You may use any machine learning algorithms you like to classify the faces.\n",
    "Techniques you may find useful that we've looked at include:\n",
    "- Decision trees and random forests\n",
    "- Boosting (and AdaBoost in particular)\n",
    "- Support Vector Machines (SVMs)\n",
    "- Face detection (to focus on the key parts of the image)\n",
    "- EigenFaces (for dimensionality reduction)\n",
    "- Neural networks in TensorFlow\n",
    "- CNNs in TensorFlow\n",
    "\n",
    "## Submission Requirements\n",
    "\n",
    "You should submit a version of this Notebook renamed to `YourName.ipynb`, so my submission would be `StevenMills.ipynb`. \n",
    "You can assume that the same libraries that are available in the COSC470 Anaconda environment on the lab machines are available.\n",
    "In particular, you can use numpy, scipy, OpenCV, and TensorFlow.\n",
    "\n",
    "I should be able to open your Notebook and run it. The Notebook should contain the code to construct and train your classifier(s) from the training data (using the validation data appropriately) and then to compute the labels of the training data through a call to `computeLabels`, which has a stub implementation at the end of this notebook. \n",
    "\n",
    "## Marking Scheme\n",
    "\n",
    "A rough marking scheme is given below. This is intentionally fairly open, so that I can give you marks for doing good stuff without having to predetermine what stuff is good.\n",
    "\n",
    "- 10 marks for the discussion of choice of algorithms and training strategy\n",
    "- 10 marks for the explanation and clear implementation\n",
    "- 5 marks for performance\n",
    "\n",
    "### Algorithm Choice and Training\n",
    "\n",
    "I will be looking for a description of the algorithm(s) chosen, why you chose that approach, and how you developed, trained and evaluated your method.\n",
    "You should think about issues such as how to best make use of the training and validation data and how to select parameters for your chosen method.\n",
    "\n",
    "You are not restricted to a single classifier or method. If you find it useful to determine age labels first and then use that to help determine expression, then that is fine. If you want to use an SVM for sex classification, but a boosted classifier for age, that's also fine.\n",
    "However, you should discuss why you chose to use the methods you have chosen.\n",
    "\n",
    "### Explanation and Clear Implementation\n",
    "\n",
    "You should implement your chosen algorithm(s) using the training and validation data sets provided. \n",
    "Jupyter notebooks let you interleave discussion and code, so you should clearly describe how your implementation works.\n",
    "You can include mathematics if needed using \\\\(\\LaTeX\\\\)-style markup as demonstrated in the lecture notebooks.\n",
    "I'll be looking for clear implementations that illustrate good practice in training and evaluation.\n",
    "\n",
    "It is expected that you will make appropriate use of libraries such as OpenCV and TensorFlow where appropriate, but your explanation should your understanding of these tools clear. \n",
    "For example, if you choose to use a convolutional network, you should explain your architecture, how it relates to the code, and give some justification for the various parameters that you need to select when making a CNN.\n",
    "\n",
    "### Performance\n",
    "\n",
    "The last cell of the notebook has a function that takes a face data set and produces labels as a result.\n",
    "You should modify this so that it uses your machine learning algorithms to generate the labels.\n",
    "I will then use these labels to compare your results to the ground truth.\n",
    "I may also shuffle the training, validation, and testing data sets around before running your code."
   ]
  },
  {
   "cell_type": "code",
   "execution_count": null,
   "metadata": {},
   "outputs": [],
   "source": []
  },
  {
   "cell_type": "markdown",
   "metadata": {
    "collapsed": true
   },
   "source": [
    "# The Data Set\n",
    "\n",
    "The following code reads the data into training, testing, and validation sets.\n",
    "It assumes that the `.zip` of labelled face data set from the course website has been unzipped into the same directory as the notebook.\n",
    "There are 1997 training images, and 998 each test and training images."
   ]
  },
  {
   "cell_type": "code",
   "execution_count": 1,
   "metadata": {},
   "outputs": [],
   "source": [
    "import numpy as np\n",
    "\n",
    "\n",
    "# Read in training data and labels\n",
    "\n",
    "# Some useful parsing functions\n",
    "\n",
    "# male/female -> 0/1\n",
    "def parseSexLabel(string):\n",
    "    if (string.startswith('male')):\n",
    "        return 0\n",
    "    if (string.startswith('female')):\n",
    "        return 1\n",
    "    print(\"ERROR parsing sex from \" + string)\n",
    "\n",
    "\n",
    "# child/teen/adult/senior -> 0/1/2/3\n",
    "def parseAgeLabel(string):\n",
    "    if (string.startswith('child')):\n",
    "        return 0\n",
    "    if (string.startswith('teen')):\n",
    "        return 1\n",
    "    if (string.startswith('adult')):\n",
    "        return 2\n",
    "    if (string.startswith('senior')):\n",
    "        return 3\n",
    "    print(\"ERROR parsing age from \" + string)\n",
    "\n",
    "\n",
    "# serious/smiling -> 0/1\n",
    "def parseExpLabel(string):\n",
    "    if (string.startswith('serious')):\n",
    "        return 0\n",
    "    if (string.startswith('smiling') or string.startswith('funny')):\n",
    "        return 1\n",
    "    print(\"ERROR parsing expression from \" + string)\n",
    "\n",
    "\n",
    "# Count number of training instances\n",
    "\n",
    "numTraining = 0\n",
    "\n",
    "for line in open(\"MITFaces/faceDR\"):\n",
    "    if line.find('_missing descriptor') < 0:\n",
    "        numTraining += 1\n",
    "\n",
    "dimensions = 128 * 128\n",
    "\n",
    "trainingFaces = np.zeros([numTraining, dimensions])\n",
    "trainingSexLabels = np.zeros(numTraining)  # Sex - 0 = male; 1 = female\n",
    "trainingAgeLabels = np.zeros(numTraining)  # Age - 0 = child; 1 = teen; 2 = male\n",
    "trainingExpLabels = np.zeros(numTraining)  # Expression - 0 = serious; 1 = smiling\n",
    "\n",
    "index = 0\n",
    "for line in open(\"MITFaces/faceDR\"):\n",
    "    if line.find('_missing descriptor') >= 0:\n",
    "        continue\n",
    "    # Parse the label data\n",
    "    parts = line.split()\n",
    "    trainingSexLabels[index] = parseSexLabel(parts[2])\n",
    "    trainingAgeLabels[index] = parseAgeLabel(parts[4])\n",
    "    trainingExpLabels[index] = parseExpLabel(parts[8])\n",
    "    # Read in the face\n",
    "    fileName = \"MITFaces/rawdata/\" + parts[0]\n",
    "    fileIn = open(fileName, 'rb')\n",
    "    trainingFaces[index, :] = np.fromfile(fileIn, dtype=np.uint8, count=dimensions) / 255.0\n",
    "    fileIn.close()\n",
    "    # And move along\n",
    "    index += 1\n",
    "\n",
    "# Count number of validation/testing instances\n",
    "\n",
    "numValidation = 0\n",
    "numTesting = 0\n",
    "\n",
    "# Assume they're all Validation\n",
    "for line in open(\"MITFaces/faceDS\"):\n",
    "    if line.find('_missing descriptor') < 0:\n",
    "        numTraining += 1\n",
    "    numValidation += 1\n",
    "\n",
    "# And make half of them testing\n",
    "numTesting = int(numValidation / 2)\n",
    "numValidation -= numTesting\n",
    "\n",
    "validationFaces = np.zeros([numValidation, dimensions])\n",
    "validationSexLabels = np.zeros(numValidation)  # Sex - 0 = male; 1 = female\n",
    "validationAgeLabels = np.zeros(numValidation)  # Age - 0 = child; 1 = teen; 2 = male\n",
    "validationExpLabels = np.zeros(numValidation)  # Expression - 0 = serious; 1 = smiling\n",
    "\n",
    "testingFaces = np.zeros([numTesting, dimensions])\n",
    "testingSexLabels = np.zeros(numTesting)  # Sex - 0 = male; 1 = female\n",
    "testingAgeLabels = np.zeros(numTesting)  # Age - 0 = child; 1 = teen; 2 = male\n",
    "testingExpLabels = np.zeros(numTesting)  # Expression - 0 = serious; 1 = smiling\n",
    "\n",
    "index = 0\n",
    "for line in open(\"MITFaces/faceDS\"):\n",
    "    if line.find('_missing descriptor') >= 0:\n",
    "        continue\n",
    "\n",
    "    # Parse the label data\n",
    "    parts = line.split()\n",
    "    if (index < numTesting):\n",
    "        testingSexLabels[index] = parseSexLabel(parts[2])\n",
    "        testingAgeLabels[index] = parseAgeLabel(parts[4])\n",
    "        testingExpLabels[index] = parseExpLabel(parts[8])\n",
    "        # Read in the face\n",
    "        fileName = \"MITFaces/rawdata/\" + parts[0]\n",
    "        fileIn = open(fileName, 'rb')\n",
    "        testingFaces[index, :] = np.fromfile(fileIn, dtype=np.uint8, count=dimensions) / 255.0\n",
    "        fileIn.close()\n",
    "    else:\n",
    "        vIndex = index - numTesting\n",
    "        validationSexLabels[vIndex] = parseSexLabel(parts[2])\n",
    "        validationAgeLabels[vIndex] = parseAgeLabel(parts[4])\n",
    "        validationExpLabels[vIndex] = parseExpLabel(parts[8])\n",
    "        # Read in the face\n",
    "        fileName = \"MITFaces/rawdata/\" + parts[0]\n",
    "        fileIn = open(fileName, 'rb')\n",
    "        validationFaces[vIndex, :] = np.fromfile(fileIn, dtype=np.uint8, count=dimensions) / 255.0\n",
    "        fileIn.close()\n",
    "\n",
    "    # And move along\n",
    "    index += 1"
   ]
  },
  {
   "cell_type": "markdown",
   "metadata": {},
   "source": [
    "# My work\n",
    "\n",
    "I used RandomForest initially to get a good baseline to try and improve on with a CNN.\n",
    "The Sklearn RandomForest implementation is a bagging technique for decision trees. The Random Forest algorithm uses a voting system of a set of trees built by training on different samples of the training population."
   ]
  },
  {
   "cell_type": "code",
   "execution_count": 10,
   "metadata": {},
   "outputs": [
    {
     "name": "stdout",
     "output_type": "stream",
     "text": [
      "------------------------------\n",
      "Random forest on sex classification\n",
      "\n",
      "Accuracy on training set: 99.29894842263394%\n",
      "Accuracy on validation set: 68.10000000000001%\n",
      "------------------------------\n"
     ]
    }
   ],
   "source": [
    "from sklearn.ensemble import RandomForestClassifier\n",
    "\n",
    "rfc = RandomForestClassifier()\n",
    "rfc.fit(trainingFaces, trainingSexLabels)\n",
    "\n",
    "print(\"-\"*30)\n",
    "print(\"Random forest on sex classification\\n\")\n",
    "print(\"Accuracy on training set: {}%\".format(rfc.score(trainingFaces, trainingSexLabels)*100))\n",
    "print(\"Accuracy on validation set: {}%\".format(rfc.score(validationFaces, validationSexLabels)*100))\n",
    "print(\"-\"*30)"
   ]
  },
  {
   "cell_type": "markdown",
   "metadata": {},
   "source": [
    "Then, random forest to classify age groups:"
   ]
  },
  {
   "cell_type": "code",
   "execution_count": 11,
   "metadata": {
    "scrolled": true
   },
   "outputs": [
    {
     "name": "stdout",
     "output_type": "stream",
     "text": [
      "------------------------------\n",
      "Random forest on age classification\n",
      "\n",
      "Accuracy on training set: 99.14872308462694%\n",
      "Accuracy on validation set: 71.39999999999999%\n",
      "------------------------------\n"
     ]
    }
   ],
   "source": [
    "rfc = RandomForestClassifier()\n",
    "rfc.fit(trainingFaces, trainingAgeLabels)\n",
    "\n",
    "print(\"-\"*30)\n",
    "print(\"Random forest on age classification\\n\")\n",
    "print(\"Accuracy on training set: {}%\".format(rfc.score(trainingFaces, trainingAgeLabels)*100))\n",
    "print(\"Accuracy on validation set: {}%\".format(rfc.score(validationFaces, validationAgeLabels)*100))\n",
    "print(\"-\"*30)"
   ]
  },
  {
   "cell_type": "markdown",
   "metadata": {},
   "source": [
    "And then for expressions:"
   ]
  },
  {
   "cell_type": "code",
   "execution_count": 12,
   "metadata": {
    "scrolled": true
   },
   "outputs": [
    {
     "name": "stdout",
     "output_type": "stream",
     "text": [
      "------------------------------\n",
      "Random forest on expression classification\n",
      "\n",
      "Accuracy on training set: 98.6479719579369%\n",
      "Accuracy on validation set: 67.60000000000001%\n",
      "------------------------------\n"
     ]
    }
   ],
   "source": [
    "rfc = RandomForestClassifier()\n",
    "rfc.fit(trainingFaces, trainingExpLabels)\n",
    "\n",
    "print(\"-\"*30)\n",
    "print(\"Random forest on expression classification\\n\")\n",
    "print(\"Accuracy on training set: {}%\".format(rfc.score(trainingFaces, trainingExpLabels)*100))\n",
    "print(\"Accuracy on validation set: {}%\".format(rfc.score(validationFaces, validationExpLabels)*100))\n",
    "print(\"-\"*30)"
   ]
  },
  {
   "cell_type": "markdown",
   "metadata": {},
   "source": [
    "It seems that using a RandomForest "
   ]
  },
  {
   "attachments": {
    "image.png": {
     "image/png": "[encoded data removed]"
    }
   },
   "cell_type": "markdown",
   "metadata": {},
   "source": [
    "\n",
    "# Convolutional Neural Network Solution\n",
    "\n",
    "Since the task is based around image recognition, a CNN would be a better solution than the Random Forest.\n",
    "I used Keras as my interface to tensorflow (it comes preinstalled with tensorflow) \n",
    "\n",
    "## Properties of CNNs \n",
    "\n",
    "I decided to look into what some layers do in a keras CNN in order to design an optimal network.\n",
    "\n",
    "Conv2d layer:\n",
    "A two-dimensional convolutional layer, which takes an input of three dimensions. The third dimension is the channel of the image (depth). \n",
    "\n",
    "![image.png](attachment:image.png)\n",
    "\n",
    "(https://www.mathworks.com/videos/introduction-to-deep-learning-what-are-convolutional-neural-networks--1489512765771.html)\n",
    "\n",
    "A convolutional layer is designed for feature detection in an image, and uses a kernel to give context to a pixel about the pixels around it. Unlike a typical feed-forward network, it is not a fully connected layer. According to https://medium.freecodecamp.org/an-intuitive-guide-to-convolutional-neural-networks-260c2de0a050, it is a good idea to repeat the setup of a convolutional layer followed by a max-pooling layer a few times, and then connect this to a normal multi-layer perceptron.\n",
    "\n",
    "Max Pooling layer:\n",
    "Condenses the dimensions of a dataset to increase efficiency. \n",
    "\n",
    "\n",
    "## Network 1 -- MNist network\n",
    "\n",
    "\n",
    "This CNN is based off the TensorFlow Keras CNN for basic MNIST found at `https://github.com/keras-team/keras/blob/master/examples/mnist_cnn.py`. I was not sure about the exact dimensions of the image for resizing for the CNN, so I ended up reshaping to a 1997 x 4 x 64 x 64 image as input. I decided to choose this network because the task of MNist is similar to the tasks given, and it is a network to establish a baseline for better networks.\n",
    "\n",
    "One-hot encoding\n",
    "One-hot encoding was selected because the loss function I selected (categorical cross entropy) requires it. \n",
    "One-hot encoding works by having a vector, v, whose length is the \n"
   ]
  },
  {
   "cell_type": "code",
   "execution_count": 47,
   "metadata": {},
   "outputs": [],
   "source": [
    "# Imports\n",
    "\n",
    "import tensorflow as tf\n",
    "from tensorflow import keras as keras\n",
    "from tensorflow.keras.models import Sequential\n",
    "from tensorflow.keras.layers import Dense,Dropout,Conv1D,Conv2D,MaxPooling1D,MaxPooling2D,Flatten\n"
   ]
  },
  {
   "cell_type": "code",
   "execution_count": 52,
   "metadata": {},
   "outputs": [
    {
     "name": "stdout",
     "output_type": "stream",
     "text": [
      "Num classes: 2\n",
      "Epoch 1/30\n",
      "1997/1997 [==============================] - 10s 5ms/step - loss: 0.8062 - acc: 0.5528\n",
      "Epoch 2/30\n",
      "1997/1997 [==============================] - 10s 5ms/step - loss: 0.6572 - acc: 0.6089\n",
      "Epoch 3/30\n",
      "1997/1997 [==============================] - 10s 5ms/step - loss: 0.6339 - acc: 0.6490\n",
      "Epoch 4/30\n",
      "1997/1997 [==============================] - 9s 5ms/step - loss: 0.6037 - acc: 0.6805\n",
      "Epoch 5/30\n",
      "1997/1997 [==============================] - 9s 4ms/step - loss: 0.5581 - acc: 0.7181\n",
      "Epoch 6/30\n",
      "1997/1997 [==============================] - 9s 4ms/step - loss: 0.5044 - acc: 0.7536\n",
      "Epoch 7/30\n",
      "1997/1997 [==============================] - 9s 4ms/step - loss: 0.4846 - acc: 0.7682\n",
      "Epoch 8/30\n",
      "1997/1997 [==============================] - 9s 4ms/step - loss: 0.4682 - acc: 0.7752\n",
      "Epoch 9/30\n",
      "1997/1997 [==============================] - 9s 5ms/step - loss: 0.4180 - acc: 0.8077\n",
      "Epoch 10/30\n",
      "1997/1997 [==============================] - 9s 4ms/step - loss: 0.3910 - acc: 0.8197\n",
      "Epoch 11/30\n",
      "1997/1997 [==============================] - 9s 5ms/step - loss: 0.3643 - acc: 0.8413\n",
      "Epoch 12/30\n",
      "1997/1997 [==============================] - 9s 5ms/step - loss: 0.3745 - acc: 0.8373\n",
      "Epoch 13/30\n",
      "1997/1997 [==============================] - 9s 5ms/step - loss: 0.3541 - acc: 0.8453\n",
      "Epoch 14/30\n",
      "1997/1997 [==============================] - 9s 5ms/step - loss: 0.3572 - acc: 0.8383\n",
      "Epoch 15/30\n",
      "1997/1997 [==============================] - 9s 5ms/step - loss: 0.3189 - acc: 0.8673\n",
      "Epoch 16/30\n",
      "1997/1997 [==============================] - 9s 5ms/step - loss: 0.3417 - acc: 0.8458\n",
      "Epoch 17/30\n",
      "1997/1997 [==============================] - 9s 5ms/step - loss: 0.2849 - acc: 0.8808\n",
      "Epoch 18/30\n",
      "1997/1997 [==============================] - 9s 4ms/step - loss: 0.2734 - acc: 0.8828\n",
      "Epoch 19/30\n",
      "1997/1997 [==============================] - 9s 4ms/step - loss: 0.2674 - acc: 0.8858\n",
      "Epoch 20/30\n",
      "1997/1997 [==============================] - 9s 4ms/step - loss: 0.2459 - acc: 0.8938\n",
      "Epoch 21/30\n",
      "1997/1997 [==============================] - 8s 4ms/step - loss: 0.2528 - acc: 0.8883\n",
      "Epoch 22/30\n",
      "1997/1997 [==============================] - 8s 4ms/step - loss: 0.2393 - acc: 0.8973\n",
      "Epoch 23/30\n",
      "1997/1997 [==============================] - 8s 4ms/step - loss: 0.2105 - acc: 0.9214\n",
      "Epoch 24/30\n",
      "1997/1997 [==============================] - 10s 5ms/step - loss: 0.2325 - acc: 0.9059\n",
      "Epoch 25/30\n",
      "1997/1997 [==============================] - 12s 6ms/step - loss: 0.1968 - acc: 0.9139\n",
      "Epoch 26/30\n",
      "1997/1997 [==============================] - 10s 5ms/step - loss: 0.1661 - acc: 0.9344\n",
      "Epoch 27/30\n",
      "1997/1997 [==============================] - 10s 5ms/step - loss: 0.1577 - acc: 0.9374\n",
      "Epoch 28/30\n",
      "1997/1997 [==============================] - 8s 4ms/step - loss: 0.2008 - acc: 0.9239\n",
      "Epoch 29/30\n",
      "1997/1997 [==============================] - 8s 4ms/step - loss: 0.1637 - acc: 0.9369\n",
      "Epoch 30/30\n",
      "1997/1997 [==============================] - 10s 5ms/step - loss: 0.1169 - acc: 0.9619\n",
      "Training accuracy: 95.84376564847271%\n",
      "Test accuracy: 82.19999999999999%\n",
      "\n"
     ]
    }
   ],
   "source": [
    "\"\"\"\n",
    "Run the MNIST CNN and evaluate its efficiency\n",
    "\"\"\"\n",
    "def runCNN(x_train, y_train, x_test, y_test):\n",
    "    num_classes = len(set(y_train))\n",
    "    print(\"Num classes:\", num_classes)\n",
    "    y_train = keras.utils.to_categorical(y_train, num_classes=num_classes)\n",
    "    y_test = keras.utils.to_categorical(y_test, num_classes=num_classes)\n",
    "\n",
    "    # Reshape the image to something sensible\n",
    "    x_train = x_train.reshape(len(x_train), 32, 32, 16)\n",
    "    x_test = x_test.reshape(len(x_test), 32, 32, 16)\n",
    "\n",
    "    input_shape = x_train.shape[1:]\n",
    "\n",
    "    model = Sequential()\n",
    "    model.add(Conv2D(32, kernel_size=(3, 3),\n",
    "                     activation='relu',\n",
    "                     input_shape=input_shape))\n",
    "    model.add(Conv2D(64, (3, 3), activation='relu'))\n",
    "    model.add(MaxPooling2D(pool_size=(2, 2)))\n",
    "    model.add(Dropout(0.25))\n",
    "    model.add(Flatten())\n",
    "    model.add(Dense(128, activation='relu'))\n",
    "    model.add(Dropout(0.5))\n",
    "    model.add(Dense(num_classes, activation='softmax'))\n",
    "\n",
    "    \n",
    "    model.compile(loss=keras.losses.categorical_crossentropy,\n",
    "              optimizer=keras.optimizers.Adadelta(),\n",
    "              metrics=['accuracy'])\n",
    "\n",
    "    model.fit(x_train, y_train,\n",
    "              epochs=30, \n",
    "              verbose=1,\n",
    "              batch_size=128)\n",
    "\n",
    "    score = model.evaluate(x_test, y_test, verbose=0)\n",
    "    trainingScore = model.evaluate(x_train, y_train, verbose=0)\n",
    "    print('Training accuracy: {}%'.format(trainingScore[1]*100))\n",
    "    print('Test accuracy: {}%'.format(score[1]*100));\n"
   ]
  },
  {
   "cell_type": "markdown",
   "metadata": {},
   "source": [
    "## Sex Labels"
   ]
  },
  {
   "cell_type": "code",
   "execution_count": 25,
   "metadata": {},
   "outputs": [
    {
     "name": "stdout",
     "output_type": "stream",
     "text": [
      "Num classes: 2\n"
     ]
    },
    {
     "ename": "RuntimeError",
     "evalue": "You must compile a model before training/testing. Use `model.compile(optimizer, loss)`.",
     "output_type": "error",
     "traceback": [
      "\u001b[0;31m---------------------------------------------------------------------------\u001b[0m",
      "\u001b[0;31mRuntimeError\u001b[0m                              Traceback (most recent call last)",
      "\u001b[0;32m<ipython-input-25-80844f6328b5>\u001b[0m in \u001b[0;36m<module>\u001b[0;34m()\u001b[0m\n\u001b[0;32m----> 1\u001b[0;31m \u001b[0mrunCNN\u001b[0m\u001b[0;34m(\u001b[0m\u001b[0mx_train\u001b[0m\u001b[0;34m=\u001b[0m\u001b[0mtrainingFaces\u001b[0m\u001b[0;34m,\u001b[0m \u001b[0my_train\u001b[0m\u001b[0;34m=\u001b[0m\u001b[0mtrainingSexLabels\u001b[0m\u001b[0;34m,\u001b[0m \u001b[0mx_test\u001b[0m\u001b[0;34m=\u001b[0m\u001b[0mvalidationFaces\u001b[0m\u001b[0;34m,\u001b[0m \u001b[0my_test\u001b[0m\u001b[0;34m=\u001b[0m\u001b[0mvalidationSexLabels\u001b[0m\u001b[0;34m)\u001b[0m\u001b[0;34m\u001b[0m\u001b[0m\n\u001b[0m",
      "\u001b[0;32m<ipython-input-24-4ea5fdde0b39>\u001b[0m in \u001b[0;36mrunCNN\u001b[0;34m(x_train, y_train, x_test, y_test)\u001b[0m\n\u001b[1;32m     26\u001b[0m               \u001b[0mepochs\u001b[0m\u001b[0;34m=\u001b[0m\u001b[0;36m20\u001b[0m\u001b[0;34m,\u001b[0m\u001b[0;34m\u001b[0m\u001b[0m\n\u001b[1;32m     27\u001b[0m               \u001b[0mverbose\u001b[0m\u001b[0;34m=\u001b[0m\u001b[0;36m1\u001b[0m\u001b[0;34m,\u001b[0m\u001b[0;34m\u001b[0m\u001b[0m\n\u001b[0;32m---> 28\u001b[0;31m               batch_size=128)\n\u001b[0m\u001b[1;32m     29\u001b[0m \u001b[0;34m\u001b[0m\u001b[0m\n\u001b[1;32m     30\u001b[0m     \u001b[0mscore\u001b[0m \u001b[0;34m=\u001b[0m \u001b[0mmodel\u001b[0m\u001b[0;34m.\u001b[0m\u001b[0mevaluate\u001b[0m\u001b[0;34m(\u001b[0m\u001b[0mx_test\u001b[0m\u001b[0;34m,\u001b[0m \u001b[0my_test\u001b[0m\u001b[0;34m,\u001b[0m \u001b[0mverbose\u001b[0m\u001b[0;34m=\u001b[0m\u001b[0;36m0\u001b[0m\u001b[0;34m)\u001b[0m\u001b[0;34m\u001b[0m\u001b[0m\n",
      "\u001b[0;32m/usr/local/lib/python3.5/dist-packages/tensorflow/python/keras/engine/training.py\u001b[0m in \u001b[0;36mfit\u001b[0;34m(self, x, y, batch_size, epochs, verbose, callbacks, validation_split, validation_data, shuffle, class_weight, sample_weight, initial_epoch, steps_per_epoch, validation_steps, **kwargs)\u001b[0m\n\u001b[1;32m   1261\u001b[0m         \u001b[0msteps_name\u001b[0m\u001b[0;34m=\u001b[0m\u001b[0;34m'steps_per_epoch'\u001b[0m\u001b[0;34m,\u001b[0m\u001b[0;34m\u001b[0m\u001b[0m\n\u001b[1;32m   1262\u001b[0m         \u001b[0msteps\u001b[0m\u001b[0;34m=\u001b[0m\u001b[0msteps_per_epoch\u001b[0m\u001b[0;34m,\u001b[0m\u001b[0;34m\u001b[0m\u001b[0m\n\u001b[0;32m-> 1263\u001b[0;31m         validation_split=validation_split)\n\u001b[0m\u001b[1;32m   1264\u001b[0m \u001b[0;34m\u001b[0m\u001b[0m\n\u001b[1;32m   1265\u001b[0m     \u001b[0;31m# Prepare validation data.\u001b[0m\u001b[0;34m\u001b[0m\u001b[0;34m\u001b[0m\u001b[0m\n",
      "\u001b[0;32m/usr/local/lib/python3.5/dist-packages/tensorflow/python/keras/engine/training.py\u001b[0m in \u001b[0;36m_standardize_user_data\u001b[0;34m(self, x, y, sample_weight, class_weight, batch_size, check_steps, steps_name, steps, validation_split)\u001b[0m\n\u001b[1;32m    787\u001b[0m     \u001b[0;32mif\u001b[0m \u001b[0my\u001b[0m \u001b[0;32mis\u001b[0m \u001b[0;32mnot\u001b[0m \u001b[0;32mNone\u001b[0m\u001b[0;34m:\u001b[0m\u001b[0;34m\u001b[0m\u001b[0m\n\u001b[1;32m    788\u001b[0m       \u001b[0;32mif\u001b[0m \u001b[0;32mnot\u001b[0m \u001b[0mself\u001b[0m\u001b[0;34m.\u001b[0m\u001b[0moptimizer\u001b[0m\u001b[0;34m:\u001b[0m\u001b[0;34m\u001b[0m\u001b[0m\n\u001b[0;32m--> 789\u001b[0;31m         raise RuntimeError('You must compile a model before '\n\u001b[0m\u001b[1;32m    790\u001b[0m                            \u001b[0;34m'training/testing. '\u001b[0m\u001b[0;34m\u001b[0m\u001b[0m\n\u001b[1;32m    791\u001b[0m                            'Use `model.compile(optimizer, loss)`.')\n",
      "\u001b[0;31mRuntimeError\u001b[0m: You must compile a model before training/testing. Use `model.compile(optimizer, loss)`."
     ]
    }
   ],
   "source": [
    "runCNN(x_train=trainingFaces, y_train=trainingSexLabels, x_test=validationFaces, y_test=validationSexLabels)"
   ]
  },
  {
   "cell_type": "markdown",
   "metadata": {},
   "source": [
    "\n",
    "## Age Labels\n"
   ]
  },
  {
   "cell_type": "code",
   "execution_count": null,
   "metadata": {},
   "outputs": [],
   "source": [
    "runCNN(x_train=trainingFaces, y_train=trainingAgeLabels, x_test=validationFaces, y_test=validationAgeLabels)"
   ]
  },
  {
   "cell_type": "markdown",
   "metadata": {},
   "source": [
    "## Expression Labels"
   ]
  },
  {
   "cell_type": "code",
   "execution_count": null,
   "metadata": {},
   "outputs": [],
   "source": [
    "runCNN(x_train=trainingFaces, y_train=trainingExpLabels, x_test=validationFaces, y_test=validationExpLabels)"
   ]
  },
  {
   "cell_type": "markdown",
   "metadata": {},
   "source": [
    "## Network 2 -- Deeper network\n",
    "\n",
    "There are probably more features to detect than the basic MNist CNN can pick up.\n",
    "Therefore, this network adds some more convolutional layers and some more max pooling layers to the mix to try and get some more accuracy"
   ]
  },
  {
   "cell_type": "code",
   "execution_count": null,
   "metadata": {},
   "outputs": [
    {
     "name": "stdout",
     "output_type": "stream",
     "text": [
      "Num classes: 2\n",
      "Epoch 1/30\n",
      "1997/1997 [==============================] - 13s 6ms/step - loss: 0.6842 - acc: 0.5679\n",
      "Epoch 2/30\n",
      "1997/1997 [==============================] - 11s 5ms/step - loss: 0.6804 - acc: 0.5674\n",
      "Epoch 3/30\n",
      "1997/1997 [==============================] - 12s 6ms/step - loss: 0.6652 - acc: 0.5924\n",
      "Epoch 4/30\n",
      "1997/1997 [==============================] - 13s 6ms/step - loss: 0.6225 - acc: 0.6264\n",
      "Epoch 5/30\n",
      "1997/1997 [==============================] - 12s 6ms/step - loss: 0.5745 - acc: 0.6825\n",
      "Epoch 6/30\n",
      "1997/1997 [==============================] - 11s 5ms/step - loss: 0.5483 - acc: 0.7061\n",
      "Epoch 7/30\n",
      "1997/1997 [==============================] - 11s 6ms/step - loss: 0.5202 - acc: 0.7231\n",
      "Epoch 8/30\n",
      "1997/1997 [==============================] - 11s 5ms/step - loss: 0.4883 - acc: 0.7446\n",
      "Epoch 9/30\n",
      "1997/1997 [==============================] - 11s 6ms/step - loss: 0.4741 - acc: 0.7616\n",
      "Epoch 10/30\n",
      "1997/1997 [==============================] - 11s 5ms/step - loss: 0.4747 - acc: 0.7486\n",
      "Epoch 11/30\n",
      "1997/1997 [==============================] - 11s 5ms/step - loss: 0.4253 - acc: 0.7937\n",
      "Epoch 12/30\n",
      "1997/1997 [==============================] - 11s 5ms/step - loss: 0.4072 - acc: 0.7992\n",
      "Epoch 13/30\n",
      "1997/1997 [==============================] - 10s 5ms/step - loss: 0.3956 - acc: 0.8152\n",
      "Epoch 14/30\n",
      "1997/1997 [==============================] - 10s 5ms/step - loss: 0.3822 - acc: 0.8267\n",
      "Epoch 15/30\n",
      "1997/1997 [==============================] - 11s 5ms/step - loss: 0.3602 - acc: 0.8338\n",
      "Epoch 16/30\n",
      "1997/1997 [==============================] - 11s 5ms/step - loss: 0.3561 - acc: 0.8373\n",
      "Epoch 17/30\n",
      "1997/1997 [==============================] - 10s 5ms/step - loss: 0.3084 - acc: 0.8628\n",
      "Epoch 18/30\n",
      "1997/1997 [==============================] - 11s 5ms/step - loss: 0.3382 - acc: 0.8443\n",
      "Epoch 19/30\n",
      "1472/1997 [=====================>........] - ETA: 2s - loss: 0.2648 - acc: 0.8933"
     ]
    }
   ],
   "source": [
    "\"\"\"\n",
    "Run the Deeper CNN and evaluate its efficiency\n",
    "\"\"\"\n",
    "def runSecondCNN(x_train, y_train, x_test, y_test):\n",
    "    num_classes = len(set(y_train))\n",
    "    print(\"Num classes:\", num_classes)\n",
    "    y_train = keras.utils.to_categorical(y_train, num_classes=num_classes)\n",
    "    y_test = keras.utils.to_categorical(y_test, num_classes=num_classes)\n",
    "\n",
    "    # Reshape the image to something sensible\n",
    "    x_train = x_train.reshape(len(x_train), 32, 32, 16)\n",
    "    x_test = x_test.reshape(len(x_test), 32, 32, 16)\n",
    "\n",
    "    input_shape = x_train.shape[1:]\n",
    "\n",
    "    # Network design\n",
    "    model = Sequential()\n",
    "    model.add(Conv2D(64, kernel_size=(3, 3),\n",
    "                     activation='relu',\n",
    "                     input_shape=input_shape))\n",
    "    model.add(Conv2D(32, (3, 3), activation='relu'))\n",
    "    model.add(MaxPooling2D(pool_size=(2, 2)))\n",
    "    \n",
    "    \n",
    "    model.add(Conv2D(32, (2, 2), activation='relu'))\n",
    "    model.add(Conv2D(16, (2, 2), activation='relu'))\n",
    "    model.add(MaxPooling2D(pool_size=(2, 2)))\n",
    "    \n",
    "    model.add(Conv2D(32, (2, 2), activation='relu'))\n",
    "    model.add(Conv2D(16, (2, 2), activation='relu'))\n",
    "    model.add(MaxPooling2D(pool_size=(2, 2)))\n",
    "    \n",
    "    model.add(Dropout(0.25))\n",
    "    model.add(Flatten())\n",
    "    model.add(Dense(128, activation='relu'))\n",
    "    model.add(Dropout(0.5))\n",
    "    model.add(Dense(128, activation='relu'))\n",
    "    model.add(Dropout(0.5))\n",
    "    model.add(Dense(num_classes, activation='softmax'))\n",
    "\n",
    "    \n",
    "    model.compile(loss=keras.losses.categorical_crossentropy,\n",
    "              optimizer=keras.optimizers.Adadelta(),\n",
    "              metrics=['accuracy'])\n",
    "\n",
    "    model.fit(x_train, y_train,\n",
    "              epochs=30, \n",
    "              verbose=1,\n",
    "              batch_size=64)\n",
    "\n",
    "    score = model.evaluate(x_test, y_test, verbose=0)\n",
    "    trainingScore = model.evaluate(x_train, y_train, verbose=0)\n",
    "\n",
    "    print('Training accuracy: {}%'.format(trainingScore[1]*100))\n",
    "    print('Test accuracy: {}%'.format(score[1]*100));\n",
    "\n",
    "runSecondCNN(x_train=trainingFaces, y_train=trainingSexLabels, x_test=validationFaces, y_test=validationSexLabels)"
   ]
  },
  {
   "cell_type": "code",
   "execution_count": 50,
   "metadata": {},
   "outputs": [
    {
     "ename": "NameError",
     "evalue": "name 'testData' is not defined",
     "output_type": "error",
     "traceback": [
      "\u001b[0;31m---------------------------------------------------------------------------\u001b[0m",
      "\u001b[0;31mNameError\u001b[0m                                 Traceback (most recent call last)",
      "\u001b[0;32m<ipython-input-50-ae8c3be83507>\u001b[0m in \u001b[0;36m<module>\u001b[0;34m()\u001b[0m\n\u001b[1;32m      9\u001b[0m     \u001b[0;32mreturn\u001b[0m \u001b[0mestSexLabels\u001b[0m\u001b[0;34m,\u001b[0m \u001b[0mestAgeLabels\u001b[0m\u001b[0;34m,\u001b[0m \u001b[0mestExpLabels\u001b[0m\u001b[0;34m\u001b[0m\u001b[0m\n\u001b[1;32m     10\u001b[0m \u001b[0;34m\u001b[0m\u001b[0m\n\u001b[0;32m---> 11\u001b[0;31m \u001b[0mestS\u001b[0m\u001b[0;34m,\u001b[0m \u001b[0mestA\u001b[0m\u001b[0;34m,\u001b[0m \u001b[0mestE\u001b[0m \u001b[0;34m=\u001b[0m \u001b[0mcomputeLabels\u001b[0m\u001b[0;34m(\u001b[0m\u001b[0mtestData\u001b[0m\u001b[0;34m)\u001b[0m\u001b[0;34m\u001b[0m\u001b[0m\n\u001b[0m\u001b[1;32m     12\u001b[0m \u001b[0;31m# I'll do stuff with the above to evaluate the accuracy of your methods\u001b[0m\u001b[0;34m\u001b[0m\u001b[0;34m\u001b[0m\u001b[0m\n",
      "\u001b[0;31mNameError\u001b[0m: name 'testData' is not defined"
     ]
    }
   ],
   "source": [
    "# This function will be used to evaluate your submission.\n",
    "\n",
    "def computeLabels(faceData):\n",
    "    n, d = faceData.shape\n",
    "    # Zero arrays for the labels, should be able to do better than this\n",
    "    estSexLabels = np.zeros(n)\n",
    "    estAgeLabels = np.zeros(n)\n",
    "    estExpLabels = np.zeros(n)\n",
    "    return estSexLabels, estAgeLabels, estExpLabels\n",
    "\n",
    "estS, estA, estE = computeLabels(testData)\n",
    "# I'll do stuff with the above to evaluate the accuracy of your methods"
   ]
  },
  {
   "cell_type": "code",
   "execution_count": null,
   "metadata": {},
   "outputs": [],
   "source": []
  }
 ],
 "metadata": {
  "kernelspec": {
   "display_name": "Python 3",
   "language": "python",
   "name": "python3"
  }
 },
 "nbformat": 4,
 "nbformat_minor": 2
}
